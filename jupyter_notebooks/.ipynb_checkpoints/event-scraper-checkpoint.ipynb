{
 "cells": [
  {
   "cell_type": "code",
   "execution_count": 61,
   "id": "d1a1a46a-6559-4476-8359-ac8cb9cdbc41",
   "metadata": {},
   "outputs": [],
   "source": [
    "import requests\n",
    "from bs4 import BeautifulSoup\n",
    "from openai import OpenAI"
   ]
  },
  {
   "cell_type": "code",
   "execution_count": 62,
   "id": "40120e8c-0898-4bce-8f68-27c759fc13ee",
   "metadata": {},
   "outputs": [],
   "source": [
    "location = \"san francisco bay area\"\n",
    "topic = \"sports\""
   ]
  },
  {
   "cell_type": "code",
   "execution_count": 63,
   "id": "0b78f7b2-5f23-44b1-9962-b3058e3458ee",
   "metadata": {},
   "outputs": [],
   "source": [
    "def scrape_article(url):\n",
    "    # Send a request to the URL\n",
    "    response = requests.get(url)\n",
    "\n",
    "    # Check if the request was successful\n",
    "    if response.status_code != 200:\n",
    "        raise Exception(f\"Failed to load page, status code: {response.status_code}\")\n",
    "\n",
    "    # Parse the HTML content of the page\n",
    "    soup = BeautifulSoup(response.content, 'html.parser')\n",
    "\n",
    "    # Extract the relevant content\n",
    "    # This part depends on the structure of the website. We'll use an example of a common structure.\n",
    "    article_content = ''\n",
    "\n",
    "    # Many news websites use <article> tag or specific class names for article content\n",
    "    article = soup.find('article')\n",
    "    if article:\n",
    "        paragraphs = article.find_all('p')\n",
    "    else:\n",
    "        # Fallback to a generic method, searching for <p> tags within a div with a common class name\n",
    "        paragraphs = soup.find_all('p')\n",
    "\n",
    "    for p in paragraphs:\n",
    "        article_content += p.get_text() + '\\n'\n",
    "\n",
    "    return article_content.strip()"
   ]
  },
  {
   "cell_type": "code",
   "execution_count": 64,
   "id": "1e4856a3-5845-4e69-8c2e-f50df340c068",
   "metadata": {},
   "outputs": [],
   "source": [
    "def get_news_search_results(query, num_results):\n",
    "    # Google news search URL with query\n",
    "    search_url = f\"https://www.google.com/search?q={query}&tbm=nws&num={num_results}\"\n",
    "\n",
    "    # Send a request to Google Search\n",
    "    response = requests.get(search_url, headers={\"User-Agent\": \"Mozilla/5.0\"})\n",
    "    response.raise_for_status()  # Check if the request was successful\n",
    "\n",
    "    # Parse the response content with BeautifulSoup\n",
    "    soup = BeautifulSoup(response.text, \"html.parser\")\n",
    "\n",
    "    # Extract the news headlines\n",
    "    headlines = []\n",
    "    for item in soup.find_all('div', class_='BNeawe vvjwJb AP7Wnd'):\n",
    "        headlines.append(item.get_text())\n",
    "\n",
    "    return headlines"
   ]
  },
  {
   "cell_type": "code",
   "execution_count": 65,
   "id": "7aa507b1-5381-42de-b43a-386cb598adf9",
   "metadata": {},
   "outputs": [],
   "source": [
    "def prompt_openai(prompt):\n",
    "    api_key = \"your key here\"\n",
    "    client = OpenAI(api_key=api_key)\n",
    "    completion = client.chat.completions.create(\n",
    "      model=\"gpt-4o\",\n",
    "      messages=[\n",
    "        {\"role\": \"user\", \"content\": prompt}\n",
    "      ]\n",
    "    )\n",
    "    return completion.choices[0].message.content"
   ]
  },
  {
   "cell_type": "code",
   "execution_count": 66,
   "id": "99b6d5f9-ad2c-45ab-bdb0-0e296a581b33",
   "metadata": {},
   "outputs": [
    {
     "name": "stdout",
     "output_type": "stream",
     "text": [
      "```python\n",
      "[\n",
      "    \"Giants snap losing streak\",\n",
      "    \"Rangers rally past the A's 4-2\",\n",
      "    \"Major events coming to San Francisco\",\n",
      "    \"San Francisco 49ers headed to their eighth Super Bowl and Taylor Swift's appearance\",\n",
      "    \"Enjoy a thrilling Super Bowl Sunday in the Bay with local watch parties\",\n",
      "    \"Bay Area waterway plagued by pirates and vigilantism\",\n",
      "    \"Golden State Valkyries: WNBA's new Bay Area expansion franchise\",\n",
      "    \"National Women's Soccer League announces new San Francisco Bay Area expansion team with former players in ownership group\",\n",
      "    \"Legendary San Francisco Sports Bar heavily damaged in fire\",\n",
      "    \"Oracle Park Watch Party to honor Willie Mays' legacy\",\n",
      "    \"Massive $6.5 billion Santa Clara development approved near new 49ers stadium\",\n",
      "    \"Bay Area sportscaster Gary Radnich announces his retirement from KNBR\"\n",
      "]\n",
      "```\n"
     ]
    }
   ],
   "source": [
    "# Define the query and the number of results\n",
    "query = f\"{location} local news in the past month about {topic}\"\n",
    "num_results = 250\n",
    "titles = []\n",
    "\n",
    "# Get the news search results\n",
    "news_search_results = get_news_search_results(query, num_results)\n",
    "\n",
    "# Print the results\n",
    "for i, result in enumerate(news_search_results, 1):\n",
    "    # print(f\"{i}. {result}\")\n",
    "    titles.append(result)\n",
    "\n",
    "prompt = f\"\"\"For the following list, give me a list of important distinct events that are referenced by several articles (i.e. a short blurb). \n",
    "{titles}\n",
    "It should be formatted as a python array. The event should be something distinct and not a general topic — i.e. the Golden Gate Bridge has shut down.\"\n",
    "If it's not related to {topic} in {location}, don't account for it. If it's an opinion article or a guide, don't account for it.\n",
    "\"\"\"\n",
    "response_text = prompt_openai(prompt)\n",
    "print(response_text)"
   ]
  },
  {
   "cell_type": "code",
   "execution_count": null,
   "id": "0d58952a-dd31-49a5-a9b6-c09e915223d7",
   "metadata": {},
   "outputs": [],
   "source": []
  }
 ],
 "metadata": {
  "kernelspec": {
   "display_name": "Python 3 (ipykernel)",
   "language": "python",
   "name": "python3"
  },
  "language_info": {
   "codemirror_mode": {
    "name": "ipython",
    "version": 3
   },
   "file_extension": ".py",
   "mimetype": "text/x-python",
   "name": "python",
   "nbconvert_exporter": "python",
   "pygments_lexer": "ipython3",
   "version": "3.11.9"
  }
 },
 "nbformat": 4,
 "nbformat_minor": 5
}
