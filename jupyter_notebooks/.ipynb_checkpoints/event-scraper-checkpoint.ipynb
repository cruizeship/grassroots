{
 "cells": [
  {
   "cell_type": "code",
   "execution_count": 39,
   "id": "d1a1a46a-6559-4476-8359-ac8cb9cdbc41",
   "metadata": {},
   "outputs": [],
   "source": [
    "import requests\n",
    "from bs4 import BeautifulSoup\n",
    "from openai import OpenAI"
   ]
  },
  {
   "cell_type": "code",
   "execution_count": 40,
   "id": "40120e8c-0898-4bce-8f68-27c759fc13ee",
   "metadata": {},
   "outputs": [],
   "source": [
    "location = \"san francisco bay area\"\n",
    "topic = \"sports\""
   ]
  },
  {
   "cell_type": "code",
   "execution_count": 41,
   "id": "0b78f7b2-5f23-44b1-9962-b3058e3458ee",
   "metadata": {},
   "outputs": [],
   "source": [
    "def scrape_article(url):\n",
    "    # Send a request to the URL\n",
    "    response = requests.get(url)\n",
    "\n",
    "    # Check if the request was successful\n",
    "    if response.status_code != 200:\n",
    "        raise Exception(f\"Failed to load page, status code: {response.status_code}\")\n",
    "\n",
    "    # Parse the HTML content of the page\n",
    "    soup = BeautifulSoup(response.content, 'html.parser')\n",
    "\n",
    "    # Extract the relevant content\n",
    "    # This part depends on the structure of the website. We'll use an example of a common structure.\n",
    "    article_content = ''\n",
    "\n",
    "    # Many news websites use <article> tag or specific class names for article content\n",
    "    article = soup.find('article')\n",
    "    if article:\n",
    "        paragraphs = article.find_all('p')\n",
    "    else:\n",
    "        # Fallback to a generic method, searching for <p> tags within a div with a common class name\n",
    "        paragraphs = soup.find_all('p')\n",
    "\n",
    "    for p in paragraphs:\n",
    "        article_content += p.get_text() + '\\n'\n",
    "\n",
    "    return article_content.strip()"
   ]
  },
  {
   "cell_type": "code",
   "execution_count": 42,
   "id": "1e4856a3-5845-4e69-8c2e-f50df340c068",
   "metadata": {},
   "outputs": [],
   "source": [
    "def get_news_search_results(query, num_results):\n",
    "    # Google news search URL with query\n",
    "    search_url = f\"https://www.google.com/search?q={query}&tbm=nws&num={num_results}\"\n",
    "\n",
    "    # Send a request to Google Search\n",
    "    response = requests.get(search_url, headers={\"User-Agent\": \"Mozilla/5.0\"})\n",
    "    response.raise_for_status()  # Check if the request was successful\n",
    "\n",
    "    # Parse the response content with BeautifulSoup\n",
    "    soup = BeautifulSoup(response.text, \"html.parser\")\n",
    "\n",
    "    # Extract the news headlines\n",
    "    headlines = []\n",
    "    for item in soup.find_all('div', class_='BNeawe vvjwJb AP7Wnd'):\n",
    "        headlines.append(item.get_text())\n",
    "\n",
    "    return headlines"
   ]
  },
  {
   "cell_type": "code",
   "execution_count": 43,
   "id": "7aa507b1-5381-42de-b43a-386cb598adf9",
   "metadata": {},
   "outputs": [],
   "source": [
    "def prompt_openai(prompt):\n",
    "    api_key = \"sk-proj-Lre5oxv7aR6TbvJudStDT3BlbkFJLooMOCbPege0CGbgaWnY\"\n",
    "    client = OpenAI(api_key=api_key)\n",
    "    completion = client.chat.completions.create(\n",
    "      model=\"gpt-4o\",\n",
    "      messages=[\n",
    "        {\"role\": \"user\", \"content\": prompt}\n",
    "      ]\n",
    "    )\n",
    "    return completion.choices[0].message.content"
   ]
  },
  {
   "cell_type": "code",
   "execution_count": 47,
   "id": "99b6d5f9-ad2c-45ab-bdb0-0e296a581b33",
   "metadata": {},
   "outputs": [
    {
     "name": "stdout",
     "output_type": "stream",
     "text": [
      "1. **Giants Snap Losing Streak**: The San Francisco Giants recently ended a losing streak, which has been a point of discussion in various sports recaps.\n",
      "\n",
      "2. **Rangers Rally Past the A's**: The Texas Rangers defeated the Oakland Athletics with a score of 4-2, highlighting a noteworthy game in local sports.\n",
      "\n",
      "3. **49ers Headed to Super Bowl**: The San Francisco 49ers are advancing to their eighth Super Bowl, generating excitement among fans.\n",
      "\n",
      "4. **A's Plan Falls Apart & New Oakland Waterfront Twist**: After a failed plan, a significant new development has emerged regarding the future of Oakland's waterfront, impacting the city's sports landscape.\n",
      "\n",
      "5. **Bay Area College Basketball Teams Preparing for March Madness**: Local college basketball teams in the Bay Area are gearing up and have work to do in anticipation of the 2024 March Madness tournament.\n",
      "\n",
      "6. **Golden State Valkyries WNBA Expansion**: The newly announced Bay Area expansion franchise for the WNBA has unveiled its name and merchandise, marking a major development in women's basketball.\n",
      "\n",
      "7. **San Francisco Sports Bar Damaged in Fire**: A legendary sports bar in San Francisco has been heavily damaged by a fire, affecting the local sports community.\n",
      "\n",
      "8. **New San Francisco Bay Area Soccer Team**: The National Women's Soccer League has announced a new expansion team in the San Francisco Bay Area, with former players in the ownership group.\n",
      "\n",
      "9. **Bob Melvin's Introduction as Giants' Manager**: Bob Melvin has been introduced as the new manager of the San Francisco Giants, while the San Diego Padres begin their search for a new manager.\n",
      "\n",
      "10. **$6.5 Billion Santa Clara Development Near 49ers Stadium**: A massive development project worth $6.5 billion has been approved near the San Francisco 49ers' stadium in Santa Clara.\n"
     ]
    }
   ],
   "source": [
    "# Define the query and the number of results\n",
    "query = f\"{location} local news in the past month about {topic}\"\n",
    "num_results = 250\n",
    "titles = []\n",
    "\n",
    "# Get the news search results\n",
    "news_search_results = get_news_search_results(query, num_results)\n",
    "\n",
    "# Print the results\n",
    "for i, result in enumerate(news_search_results, 1):\n",
    "    # print(f\"{i}. {result}\")\n",
    "    titles.append(result)\n",
    "\n",
    "prompt = f\"\"\"For the following list, give me a list of important distinct events that are referenced by several articles (i.e. a short blurb). \n",
    "{titles}\n",
    "It should be formatted as a numbered list. The event should be something distinct and not a general topic — i.e. the Golden Gate Bridge has shut down.\"\n",
    "If it's not related to {topic} in {location}, don't account for it. If it's an opinion article or a guide, don't account for it.\n",
    "\"\"\"\n",
    "response_text = prompt_openai(prompt)\n",
    "print(response_text)"
   ]
  },
  {
   "cell_type": "code",
   "execution_count": null,
   "id": "92fbb568-1004-4dcb-ab1d-37e25679e241",
   "metadata": {},
   "outputs": [],
   "source": []
  }
 ],
 "metadata": {
  "kernelspec": {
   "display_name": "Python 3 (ipykernel)",
   "language": "python",
   "name": "python3"
  },
  "language_info": {
   "codemirror_mode": {
    "name": "ipython",
    "version": 3
   },
   "file_extension": ".py",
   "mimetype": "text/x-python",
   "name": "python",
   "nbconvert_exporter": "python",
   "pygments_lexer": "ipython3",
   "version": "3.11.9"
  }
 },
 "nbformat": 4,
 "nbformat_minor": 5
}
