{
 "cells": [
  {
   "cell_type": "code",
   "execution_count": 26,
   "id": "d1a1a46a-6559-4476-8359-ac8cb9cdbc41",
   "metadata": {},
   "outputs": [],
   "source": [
    "import requests\n",
    "from bs4 import BeautifulSoup\n",
    "from openai import OpenAI\n",
    "import urllib.parse\n"
   ]
  },
  {
   "cell_type": "code",
   "execution_count": 27,
   "id": "1e4856a3-5845-4e69-8c2e-f50df340c068",
   "metadata": {},
   "outputs": [],
   "source": [
    "def get_news_search_results(query, num_results):\n",
    "    # Google news search URL with query\n",
    "    search_url = f\"https://www.google.com/search?q={query}&tbm=nws&num={num_results}\"\n",
    "\n",
    "    # Send a request to Google Search\n",
    "    response = requests.get(search_url, headers={\"User-Agent\": \"Mozilla/5.0\"})\n",
    "    response.raise_for_status()  # Check if the request was successful\n",
    "\n",
    "    # Parse the response content with BeautifulSoup\n",
    "    soup = BeautifulSoup(response.text, \"html.parser\")\n",
    "\n",
    "    # Extract the news headlines\n",
    "    #soup.find_all('div', class_= 'BNeawe vvjwJb AP7Wnd'):\n",
    "    \n",
    "    divs = soup.find_all('div', class_='BNeawe vvjwJb AP7Wnd')\n",
    "    articles = []\n",
    "    \n",
    "    if not divs:\n",
    "        print(\"No news results found.\")\n",
    "        return\n",
    "    \n",
    "    for div in divs:\n",
    "        # Extract headline text\n",
    "        headline = div.text\n",
    "        # Find the parent 'a' tag which contains the link\n",
    "        link_tag = div.find_parent('a')\n",
    "        # Extract the link URL\n",
    "        if link_tag:\n",
    "            # Google search results URLs are often prefixed with '/url?q='\n",
    "            # Extract and decode the actual URL using urllib.parse\n",
    "            raw_url = link_tag.get('href')\n",
    "            if raw_url.startswith('/url?q='):\n",
    "                url = urllib.parse.unquote(raw_url.split('/url?q=')[1].split('&sa=')[0])\n",
    "            else:\n",
    "                url = 'No valid link found'\n",
    "        else:\n",
    "            url = 'No link found'\n",
    "            \n",
    "        articles.append((headline, url))\n",
    "            \n",
    "    return articles"
   ]
  },
  {
   "cell_type": "code",
   "execution_count": 28,
   "id": "99b6d5f9-ad2c-45ab-bdb0-0e296a581b33",
   "metadata": {},
   "outputs": [],
   "source": [
    "# Define the query and the number of results\n",
    "def fetch_links(location, topic):\n",
    "    query = f\"{location} local news in the past week about {topic}\"\n",
    "    num_results = 25\n",
    "    articles = []\n",
    "    \n",
    "    # Get the news search results\n",
    "    news_search_results = get_news_search_results(query, num_results)\n",
    "\n",
    "    # # Print the results\n",
    "    for i, result in enumerate(news_search_results, 1):\n",
    "    #     # print(f\"{i}. {result}\")\n",
    "         articles.append(result)\n",
    "\n",
    "    return articles\n"
   ]
  },
  {
   "cell_type": "code",
   "execution_count": 29,
   "id": "7aa507b1-5381-42de-b43a-386cb598adf9",
   "metadata": {},
   "outputs": [],
   "source": [
    "def prompt_openai(prompt):\n",
    "    api_key = \"sk-proj-f72yNKo5Aj5GpzO4ye7KT3BlbkFJFTEm12nM4PJtgNNMLR2o\"\n",
    "    client = OpenAI(api_key=api_key)\n",
    "    completion = client.chat.completions.create(\n",
    "      model=\"gpt-4o\",\n",
    "      messages=[\n",
    "        {\"role\": \"user\", \"content\": prompt}\n",
    "      ]\n",
    "    )\n",
    "    return completion.choices[0].message.content"
   ]
  },
  {
   "cell_type": "code",
   "execution_count": 30,
   "id": "0b1725da-5897-4bda-bc2d-10f450938f3b",
   "metadata": {},
   "outputs": [],
   "source": [
    "def generate_events(location, topic):\n",
    "    articles = fetch_links(location, topic)\n",
    "    \n",
    "    prompt = f\"\"\"For the following list, give me a list of five important distinct events that are referenced by several articles (i.e. a short blurb). \n",
    "    {articles} If it's not related to {topic} and/or it's not in {location}, don't account for it. If it's an opinion article or a guide, don't account for it.\n",
    "    It should be formatted as a python array of arrays, with the first item being the event title and the second item the links that pertain to it. \n",
    "    The event should be something distinct and not a general topic — i.e. the Golden Gate Bridge has shut down.\"\n",
    "    Please don't do things like '''python or /n, i should be able to assign the output text to a variable\n",
    "    \"\"\"\n",
    "    response_text = prompt_openai(prompt)\n",
    "    return eval(response_text)"
   ]
  },
  {
   "cell_type": "code",
   "execution_count": 31,
   "id": "e7a65c8a-18a7-4fdd-8441-ca7de284aec9",
   "metadata": {},
   "outputs": [
    {
     "data": {
      "text/plain": [
       "[['APEC Summit 2023 in San Francisco',\n",
       "  ['https://www.nbcbayarea.com/news/local/apec-summit-san-francisco-explained/3369623/',\n",
       "   'https://www.sfchronicle.com/sf/article/apec-san-francisco-closures-traffic-18481349.php',\n",
       "   'https://www.nbcbayarea.com/news/local/san-francisco/san-francisco-streets-after-apec/3395312/',\n",
       "   'https://www.kqed.org/news/11965942/from-street-closures-to-security-checks-what-to-know-about-sf-apec-2023',\n",
       "   'https://abc7news.com/apec-summit-san-francisco-schedule-asia-pacific-economic-cooperation-2023/14028661/',\n",
       "   'https://abc7news.com/apec-2023-san-francisco-road-closures-summit-security-sf-safety/14022548/',\n",
       "   'https://www.sfchronicle.com/sf/article/apec-san-francisco-closures-traffic-18497432.php',\n",
       "   'https://www.sfchronicle.com/sf/article/sf-apec-homeless-encampments-clear-hotspots-18478050.php',\n",
       "   'https://www.sfchronicle.com/sf/article/apec-san-francisco-closures-traffic-protests-18494935.php',\n",
       "   'https://abc7news.com/apec-summit-san-francisco-road-closures-traffic/14009814/',\n",
       "   'https://nypost.com/2023/11/10/news/san-francisco-clears-drug-addicts-and-homeless-out-of-downtown-ahead-of-biden-and-xi-jinping-summit/',\n",
       "   'https://sfstandard.com/2023/11/07/san-francisco-apec-security-maps-transit-traffic/']],\n",
       " ['Bay Area Job Market',\n",
       "  ['https://www.mercurynews.com/2024/05/17/bay-area-job-tech-economy-covid-layoff-hotel-restaurant-store-april/',\n",
       "   'https://www.mercurynews.com/2024/04/19/bay-area-job-tech-economy-covid-layoff-hotel-restaurant-store-march/']],\n",
       " ['San Francisco Economic Challenges',\n",
       "  ['https://www.newyorker.com/magazine/2023/10/23/what-happened-to-san-francisco-really',\n",
       "   'https://www.sfchronicle.com/sf/article/san-francisco-economy-18362987.php']],\n",
       " [\"Oakland Coliseum Workers Affected by A's Move\",\n",
       "  ['https://www.sfchronicle.com/eastbay/article/oakland-coliseum-worker-employee-19397706.php']],\n",
       " ['Protesters Shut Down I-880 Freeway in Oakland',\n",
       "  ['https://www.kqed.org/news/11982940/protesters-shut-down-880-freeway-in-oakland-as-part-of-economic-blockade-for-gaza']]]"
      ]
     },
     "execution_count": 31,
     "metadata": {},
     "output_type": "execute_result"
    }
   ],
   "source": [
    "output = generate_events(\"san francisco bay area\", \"economy\")\n",
    "output"
   ]
  },
  {
   "cell_type": "code",
   "execution_count": 34,
   "id": "6ffd8f04-0196-4235-a508-5fb73e7a737d",
   "metadata": {},
   "outputs": [
    {
     "name": "stdout",
     "output_type": "stream",
     "text": [
      "First image URL: No image found\n"
     ]
    }
   ],
   "source": [
    "import re\n",
    "\n",
    "def fetch_first_image(query):\n",
    "    # Construct the Google search URL\n",
    "    search_url = f\"https://www.google.com/search?q={query}&tbm=isch\"\n",
    "    \n",
    "    # Set user-agent to mimic a browser request\n",
    "    headers = {\n",
    "        \"User-Agent\": \"Mozilla/5.0 (Windows NT 10.0; Win64; x64) AppleWebKit/537.36 (KHTML, like Gecko) Chrome/91.0.4472.124 Safari/537.36\"\n",
    "    }\n",
    "    \n",
    "    # Perform the search\n",
    "    response = requests.get(search_url, headers=headers)\n",
    "    \n",
    "    # Check if the request was successful\n",
    "    if response.status_code != 200:\n",
    "        return \"Failed to retrieve search results\"\n",
    "    \n",
    "    # Parse the content with BeautifulSoup\n",
    "    soup = BeautifulSoup(response.text, 'html.parser')\n",
    "    \n",
    "    # Find the first image element\n",
    "    first_image = soup.find('img', {'src': re.compile('^https://')})\n",
    "    \n",
    "    if first_image:\n",
    "        return first_image['src']\n",
    "    else:\n",
    "        return \"No image found\"\n",
    "\n",
    "# Example usage\n",
    "query = \"puppies\"\n",
    "first_image_url = fetch_first_image(query)\n",
    "print(\"First image URL:\", first_image_url)\n"
   ]
  },
  {
   "cell_type": "code",
   "execution_count": null,
   "id": "2d46a4ff-ffb7-41c3-a87e-fcd7b9ac6e5f",
   "metadata": {},
   "outputs": [],
   "source": []
  }
 ],
 "metadata": {
  "kernelspec": {
   "display_name": "Python 3 (ipykernel)",
   "language": "python",
   "name": "python3"
  },
  "language_info": {
   "codemirror_mode": {
    "name": "ipython",
    "version": 3
   },
   "file_extension": ".py",
   "mimetype": "text/x-python",
   "name": "python",
   "nbconvert_exporter": "python",
   "pygments_lexer": "ipython3",
   "version": "3.11.9"
  }
 },
 "nbformat": 4,
 "nbformat_minor": 5
}
