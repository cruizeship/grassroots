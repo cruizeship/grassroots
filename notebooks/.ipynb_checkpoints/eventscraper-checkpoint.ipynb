{
 "cells": [
  {
   "cell_type": "code",
   "execution_count": 2,
   "id": "d1a1a46a-6559-4476-8359-ac8cb9cdbc41",
   "metadata": {},
   "outputs": [],
   "source": [
    "import requests\n",
    "from bs4 import BeautifulSoup\n",
    "from openai import OpenAI\n",
    "import urllib.parse\n",
    "from ast import *"
   ]
  },
  {
   "cell_type": "code",
   "execution_count": 3,
   "id": "1e4856a3-5845-4e69-8c2e-f50df340c068",
   "metadata": {},
   "outputs": [],
   "source": [
    "def get_news_search_results(query, num_results):\n",
    "    # Google news search URL with query\n",
    "    search_url = f\"https://www.google.com/search?q={query}&tbm=nws&num={num_results}\"\n",
    "\n",
    "    # Send a request to Google Search\n",
    "    response = requests.get(search_url, headers={\"User-Agent\": \"Mozilla/5.0\"})\n",
    "    response.raise_for_status()  # Check if the request was successful\n",
    "\n",
    "    # Parse the response content with BeautifulSoup\n",
    "    soup = BeautifulSoup(response.text, \"html.parser\")\n",
    "\n",
    "    # Extract the news headlines\n",
    "    #soup.find_all('div', class_= 'BNeawe vvjwJb AP7Wnd'):\n",
    "    \n",
    "    divs = soup.find_all('div', class_='BNeawe vvjwJb AP7Wnd')\n",
    "    articles = []\n",
    "    \n",
    "    if not divs:\n",
    "        print(\"No news results found.\")\n",
    "        return\n",
    "    \n",
    "    for div in divs:\n",
    "        # Extract headline text\n",
    "        headline = div.text\n",
    "        # Find the parent 'a' tag which contains the link\n",
    "        link_tag = div.find_parent('a')\n",
    "        # Extract the link URL\n",
    "        if link_tag:\n",
    "            # Google search results URLs are often prefixed with '/url?q='\n",
    "            # Extract and decode the actual URL using urllib.parse\n",
    "            raw_url = link_tag.get('href')\n",
    "            if raw_url.startswith('/url?q='):\n",
    "                url = urllib.parse.unquote(raw_url.split('/url?q=')[1].split('&sa=')[0])\n",
    "            else:\n",
    "                url = 'No valid link found'\n",
    "        else:\n",
    "            url = 'No link found'\n",
    "            \n",
    "        articles.append((headline, url))\n",
    "            \n",
    "    return articles"
   ]
  },
  {
   "cell_type": "code",
   "execution_count": 4,
   "id": "99b6d5f9-ad2c-45ab-bdb0-0e296a581b33",
   "metadata": {},
   "outputs": [],
   "source": [
    "# Define the query and the number of results\n",
    "def fetch_links(location, topic):\n",
    "    query = f\"{location} local news in the past week about {topic}\"\n",
    "    num_results = 25\n",
    "    articles = []\n",
    "    \n",
    "    # Get the news search results\n",
    "    news_search_results = get_news_search_results(query, num_results)\n",
    "\n",
    "    # # Print the results\n",
    "    for i, result in enumerate(news_search_results, 1):\n",
    "    #     # print(f\"{i}. {result}\")\n",
    "         articles.append(result)\n",
    "\n",
    "    return articles\n"
   ]
  },
  {
   "cell_type": "code",
   "execution_count": 5,
   "id": "7aa507b1-5381-42de-b43a-386cb598adf9",
   "metadata": {},
   "outputs": [],
   "source": [
    "def prompt_openai(prompt):\n",
    "    api_key = \"sk-proj-DpFFaCf3nHFx384aZQrmT3BlbkFJRsuMTVNdDhK3GQn1j4Si\"\n",
    "    client = OpenAI(api_key=api_key)\n",
    "    completion = client.chat.completions.create(\n",
    "      model=\"gpt-4o\",\n",
    "      messages=[\n",
    "        {\"role\": \"user\", \"content\": prompt}\n",
    "      ]\n",
    "    )\n",
    "    return completion.choices[0].message.content"
   ]
  },
  {
   "cell_type": "code",
   "execution_count": 18,
   "id": "0b1725da-5897-4bda-bc2d-10f450938f3b",
   "metadata": {},
   "outputs": [],
   "source": [
    "def generate_events(location, topic):\n",
    "    articles = fetch_links(location, topic)\n",
    "    \n",
    "    prompt = f\"\"\"For the following list, give me a list of five important distinct events that are referenced by several articles (i.e. a short blurb). \n",
    "    {articles} If it's not related to {topic} and/or it's not in {location}, don't account for it. If it's an opinion article or a guide, don't account for it.\n",
    "    It should be formatted as a python array of tuples, with the first item being the event title and the second item the links that pertain to it. The third item should be a link to an image from the first link in the second item. \n",
    "    The event should be something distinct and not a general topic — i.e. the Golden Gate Bridge has shut down.\"\n",
    "    Please don't do things like '''python or /n, i should be able to assign the output text to a variable\n",
    "    \"\"\"\n",
    "    response_text = prompt_openai(prompt)\n",
    "    return eval(response_text)"
   ]
  },
  {
   "cell_type": "code",
   "execution_count": 19,
   "id": "e7a65c8a-18a7-4fdd-8441-ca7de284aec9",
   "metadata": {},
   "outputs": [
    {
     "data": {
      "text/plain": [
       "[('APEC Summit 2023 in San Francisco',\n",
       "  ['https://www.nbcbayarea.com/news/local/apec-summit-san-francisco-explained/3369623/',\n",
       "   'https://www.sfchronicle.com/sf/article/apec-san-francisco-closures-traffic-18481349.php',\n",
       "   'https://www.kqed.org/news/11965942/from-street-closures-to-security-checks-what-to-know-about-sf-apec-2023',\n",
       "   'https://abc7news.com/apec-2023-san-francisco-road-closures-summit-security-sf-safety/14022548/',\n",
       "   'https://abc7news.com/apec-summit-san-francisco-schedule-asia-pacific-economic-cooperation-2023/14028661/'],\n",
       "  'https://www.nbcbayarea.com/wp-content/uploads/sites/22/2023/11/APEC-Summit.jpg?quality=85&strip=all'),\n",
       " (\"Oakland's Economic Impact from the A's Relocation\",\n",
       "  ['https://www.sfchronicle.com/eastbay/article/oakland-coliseum-worker-employee-19397706.php'],\n",
       "  'https://www.sfchronicle.com/img/pages/article/19397706/photo/EERHSIH5S2X6RWOKQKPBZPHHY4.jpg'),\n",
       " (\"Protesters Shut Down I-880 Freeway in Oakland as Part of 'Economic Blockade' for Gaza\",\n",
       "  ['https://www.kqed.org/news/11982940/protesters-shut-down-880-freeway-in-oakland-as-part-of-economic-blockade-for-gaza'],\n",
       "  'https://www.kqed.org/wp-content/uploads/sites/3/2023/11/protesters-oakland-freeway-scaled.jpg'),\n",
       " ('Labor Market and Economic Trends in the Bay Area',\n",
       "  ['https://www.mercurynews.com/2024/05/17/bay-area-job-tech-economy-covid-layoff-hotel-restaurant-store-april/',\n",
       "   'https://www.mercurynews.com/2023/10/01/mood-is-dark-80-of-bay-area-voters-see-state-of-big-three-downtowns-as-serious-problem-poll-finds/',\n",
       "   'https://www.sfchronicle.com/sf/article/san-francisco-economy-18362987.php'],\n",
       "  'https://www.mercurynews.com/wp-content/uploads/2023/10/BayAreaJobs.jpg?w=620'),\n",
       " ('Increased Downtown Activity in San Jose and Oakland',\n",
       "  ['https://www.mercurynews.com/2024/05/09/economy-san-jose-oakland-downtown-jobs-restaurant-store-tech-property/'],\n",
       "  'https://www.mercurynews.com/wp-content/uploads/2024/05/SanJoseDowntown.jpg?w=620')]"
      ]
     },
     "execution_count": 19,
     "metadata": {},
     "output_type": "execute_result"
    }
   ],
   "source": [
    "output = generate_events(\"san francisco bay area\", \"economy\")\n",
    "output"
   ]
  },
  {
   "cell_type": "code",
   "execution_count": null,
   "id": "cbf1e2ba-201f-4542-84c5-1f2f283c272b",
   "metadata": {},
   "outputs": [],
   "source": []
  }
 ],
 "metadata": {
  "kernelspec": {
   "display_name": "Python 3 (ipykernel)",
   "language": "python",
   "name": "python3"
  },
  "language_info": {
   "codemirror_mode": {
    "name": "ipython",
    "version": 3
   },
   "file_extension": ".py",
   "mimetype": "text/x-python",
   "name": "python",
   "nbconvert_exporter": "python",
   "pygments_lexer": "ipython3",
   "version": "3.11.9"
  }
 },
 "nbformat": 4,
 "nbformat_minor": 5
}
